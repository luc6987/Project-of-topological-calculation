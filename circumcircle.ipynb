{
 "cells": [
  {
   "cell_type": "markdown",
   "metadata": {},
   "source": [
    "On déduit les équation pour calculer des circumcircles:\n",
    "\n",
    "Soit $P_i^n$ le $i$-ième coordinée de point $P^n$ dans un emsemble des $N$-points dans $d$-dimension en satisfasant $1 \\leq n \\leq N \\leq d+1$. Et soit $c=\\sum_n k_n P^{n0}$. Pour la centre du circumcircle, pour quelconque $n,m\\in[1,n]\\cap Z$  ,on a:\n",
    "\n",
    "$$|c-P^n|=|c-P^m| $$\n",
    "$$\\sum_i (c_i-P_i^n)^2-(n\\to m)=0 $$\n",
    "$$\\sum_i (P_i^n)^2+2P_i^nc_i-(n\\to m)=0 $$\n",
    "$$\\sum_i ((P_i^n)^2-(P_i^m)^2)=\\sum_l (P_i^{l0}\\sum_i 2(P_i^n-P_i^m)) k_l  $$\n",
    "$$|P^n|-|P^m|=\\sum_l (P_i^{l0}\\sum_i 2(P_i^n-P_i^m)) k_l  .$$\n",
    "\n",
    "Dans l'implementation, on prends $m=0$\n",
    "$$|P^n|-|P^0|=\\sum_l (2P_i^l\\sum_i (P_i^n-P_i^0)) k_l  $$\n",
    "\n",
    "$$A_{mn}=2P^{m0} \\cdot P^{n0} $$\n",
    "$$b_n=|P^n|-|P^0|.$$\n",
    "\n",
    "c'est une systeme linaire avec $n-1$ équations et $n-1$ variables. Apres qu'on resoudre la systeme, on peut extrait  $c=\\sum_n k_n P^{n0}$ par $c=k \\cdot P+P^0$."
   ]
  }
 ],
 "metadata": {
  "language_info": {
   "name": "python"
  }
 },
 "nbformat": 4,
 "nbformat_minor": 2
}
