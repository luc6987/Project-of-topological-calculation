{
 "cells": [
  {
   "cell_type": "markdown",
   "metadata": {},
   "source": [
    "# Topological Data Analysis\n",
    "Matias Ollu, Yuguang Yao\n",
    "\n",
    "## Abstact\n",
    "This resipotary aims to present our result to solve the problem of the project of topological data analysis in CSC_42021_EP - Conception et analyse d'algorithmes (2024-2025) of the École Polytechnique. We present an alogritme to compute the simplexes and the filtration value of a given $\\alpha$-complex or Čech-complex of a arbitary point-set. We devolepped an alogritme general enough to calculate the circumcircle of $n$ points in $d$-dimension euclidean space."
   ]
  },
  {
   "cell_type": "markdown",
   "metadata": {},
   "source": [
    "## Environment\n",
    "We utilise the packets following:"
   ]
  },
  {
   "cell_type": "code",
   "execution_count": null,
   "metadata": {},
   "outputs": [],
   "source": [
    "import random\n",
    "import numpy as np\n",
    "from itertools import combinations"
   ]
  },
  {
   "cell_type": "markdown",
   "metadata": {},
   "source": [
    "## $\\alpha$-complex and Čech-complex\n",
    "We will firstly define the key concepts that we are going to use.\n",
    "\n",
    "* Define 1: "
   ]
  },
  {
   "cell_type": "markdown",
   "metadata": {},
   "source": [
    "## Question 1\n",
    "\n",
    ">Task 1. Implement the computation of the minimal enclosing ball (MEB)\n",
    ">of a set of points using one (or more) of the algorithms from https:// en.\n",
    ">wikipedia.org/ wiki/ LP-type_problem.\n",
    "\n",
    "We defined a class of Sphere(center,radius), and uitilised the alogithm of Weltz(LP-Problem) to solve the MEB quetion and we solved alse the circumcircle of $n$ points in $d$-dimension euclidean space."
   ]
  },
  {
   "cell_type": "code",
   "execution_count": null,
   "metadata": {},
   "outputs": [],
   "source": [
    "# This class is used to represent a sphere.\n",
    "class Sphere:\n",
    "    def __init__(self, center, radius):\n",
    "        self.center = np.array(center)\n",
    "        self.radius = radius\n",
    "\n",
    "    def contains(self, point):\n",
    "        \"\"\"Check if the sphere contains the given point.\"\"\"\n",
    "        return np.linalg.norm(self.center - np.array(point)) <= self.radius #+ 1e-9\n",
    "    \n",
    "    def contains_strict(self,point):\n",
    "        \"\"\"Check if the sphere contains the given point.\"\"\"\n",
    "        norme = np.linalg.norm(self.center - np.array(point))\n",
    "        return not (np.isclose((norme),self.radius) or norme>self.radius+1e-9)\n",
    "    \n",
    "    def onradius(self,point):\n",
    "        \"\"\"Check if the point is on the sphere\"\"\"\n",
    "        return np.isclose(np.linalg.norm(self.center - np.array(point)),self.radius)"
   ]
  },
  {
   "cell_type": "markdown",
   "metadata": {},
   "source": [
    "On déduit les équation pour calculer des circumcircles:\n",
    "\n",
    "Soit $P_i^n$ le $i$-ième coordinée de point $P^n$ dans un emsemble des $N$-points dans $d$-dimension en satisfasant $1 \\leq n \\leq N \\leq d+1$. Et soit $c=\\sum_n k_n P^{n0}$. Pour la centre du circumcircle, pour quelconque $n,m\\in[1,n]\\cap Z$  ,on a:\n",
    "\n",
    "$$|c-P^n|=|c-P^m| $$\n",
    "$$\\sum_i (c_i-P_i^n)^2-(n\\to m)=0 $$\n",
    "$$\\sum_i (P_i^n)^2+2P_i^nc_i-(n\\to m)=0 $$\n",
    "$$\\sum_i ((P_i^n)^2-(P_i^m)^2)=\\sum_l (P_i^{l0}\\sum_i 2(P_i^n-P_i^m)) k_l  $$\n",
    "$$|P^n|-|P^m|=\\sum_l (P_i^{l0}\\sum_i 2(P_i^n-P_i^m)) k_l  .$$\n",
    "\n",
    "Dans l'implementation, on prends $m=0$\n",
    "$$|P^n|-|P^0|=\\sum_l (2P_i^l\\sum_i (P_i^n-P_i^0)) k_l  $$\n",
    "\n",
    "$$A_{mn}=2P^{m0} \\cdot P^{n0} $$\n",
    "$$b_n=|P^n|-|P^0|.$$\n",
    "\n",
    "c'est une systeme linaire avec $n-1$ équations et $n-1$ variables(theorem à prouver). Apres qu'on resoudre la systeme, on peut extrait  $c=\\sum_n k_n P^{n0}$ par $c=k \\cdot P+P^0$."
   ]
  },
  {
   "cell_type": "code",
   "execution_count": null,
   "metadata": {},
   "outputs": [],
   "source": [
    "def make_sphere_n_points(points):\n",
    "    \"\"\"\n",
    "    Trouver le minimal circumcircle dans l'espace d-dimension de n points (n <= d+1).\n",
    "    \n",
    "    when utilising this mathod, we assume that the points are not colinear and that the dimension is at least 2.\n",
    "\n",
    "    Paramètres :\n",
    "        points: np.ndarray, shape (n, d)\n",
    "    Retourne :\n",
    "        Sphere\n",
    "    \"\"\"\n",
    "    points = np.array(points, dtype=float)\n",
    "    \n",
    "    # Calcul de la matrice A et du vecteur b\n",
    "    diffs = points[1:] - points[0]  # Différences (P^n - P^0) pour n = 1, ..., N-1\n",
    "    A = 2 * np.dot(diffs, diffs.T)  # Matrice A\n",
    "    b = np.sum(diffs ** 2, axis=1)  # Vecteur b\n",
    "\n",
    "    # Résolution du système linéaire pour trouver les coefficients k\n",
    "    k = np.linalg.solve(A, b)\n",
    "\n",
    "    # Calculer le centre\n",
    "    center = points[0] + np.dot(k, diffs)\n",
    "\n",
    "    # Calculer le rayon\n",
    "    radius = np.linalg.norm(center - points[0])\n",
    "\n",
    "    # Retourner une instance de Sphere\n",
    "    return Sphere(center=center, radius=radius)"
   ]
  },
  {
   "cell_type": "code",
   "execution_count": null,
   "metadata": {},
   "outputs": [],
   "source": [
    "def trivial(R):\n",
    "    \"\"\"Find the minimal sphere for 0, 1 or mores points.\"\"\"\n",
    "    if not R:\n",
    "        return Sphere([0, 0, 0], 0)\n",
    "    elif len(R) == 1:\n",
    "        return Sphere(R[0], 0)\n",
    "    elif len(R) >= 1:\n",
    "        return make_sphere_n_points(R)\n",
    "\n",
    "def welzl(P, R):\n",
    "    \"\"\"Recursive implementation of Welzl's algorithm for 3D.\"\"\"\n",
    "    if not P or len(R) == 4:\n",
    "        return trivial(R)\n",
    "\n",
    "    p = P.pop(random.randint(0, len(P) - 1))\n",
    "    D = welzl(P, R)\n",
    "\n",
    "    if D.contains(p):\n",
    "        P.append(p)\n",
    "        return D\n",
    "\n",
    "    result = welzl(P, R + [p])\n",
    "    P.append(p)\n",
    "    return result\n",
    "\n",
    "def minimal_enclosing_sphere(points):\n",
    "    \"\"\"Compute the minimal enclosing sphere for a set of points.\"\"\"\n",
    "    points = points[:]\n",
    "    random.shuffle(points)\n",
    "    return welzl(points, [])"
   ]
  }
 ],
 "metadata": {
  "language_info": {
   "name": "python"
  }
 },
 "nbformat": 4,
 "nbformat_minor": 2
}
